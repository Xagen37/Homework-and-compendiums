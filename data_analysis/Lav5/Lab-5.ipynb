{
 "cells": [
  {
   "cell_type": "markdown",
   "id": "instant-planning",
   "metadata": {
    "id": "instant-planning"
   },
   "source": [
    "# Разделимость данных"
   ]
  },
  {
   "cell_type": "markdown",
   "id": "reserved-slave",
   "metadata": {
    "id": "reserved-slave"
   },
   "source": [
    "Примените алгоритмы уменьшения размерности к данным из предыдущей лабораторной, объясните полученные результаты\n",
    "\n",
    "1. С помощью любого из рассмотренных на лекциях алгоритмов снижения размерности спроецируйте тренировочные данные в 2d пространство. Визуализируйте результаты снижения размерности. Цветом обозначьте категорию объекта\n",
    "1. Примените алгоритм кластеризации к спроецированным данным. Расчитайте средние внутрикластерное и межкласторное расстояния получившейся проекции\n",
    "1. Опишите результаты "
   ]
  },
  {
   "cell_type": "code",
   "execution_count": null,
   "id": "dd391ee4-89f5-4c24-90d9-024bf3f094e2",
   "metadata": {},
   "outputs": [],
   "source": [
    "import matplotlib.pyplot as plt\n",
    "import numpy as np\n",
    "import pandas as pd\n",
    "from scipy import stats\n",
    "from sklearn.manifold import TSNE\n",
    "seed = 0"
   ]
  },
  {
   "cell_type": "code",
   "execution_count": null,
   "id": "d1d1ad42-0bbc-40ba-926d-001f2d929ef9",
   "metadata": {},
   "outputs": [],
   "source": [
    "data = pd.read_csv('data/SpotifyFeatures.csv')"
   ]
  },
  {
   "cell_type": "code",
   "execution_count": null,
   "id": "492ebb79-20dd-43fd-b595-1a0a1ec3dfed",
   "metadata": {},
   "outputs": [],
   "source": [
    "data.info()\n",
    "data.sample(5)"
   ]
  },
  {
   "cell_type": "code",
   "execution_count": null,
   "id": "c63bb0c3-96ed-4926-9745-f463d666f9d1",
   "metadata": {},
   "outputs": [],
   "source": [
    "def score(popularity: int) -> int:\n",
    "    if (popularity < 15):\n",
    "        return 3 #\"Very popular\"\n",
    "    elif (popularity < 35):\n",
    "        return 2 #\"Popular\"\n",
    "    elif (popularity < 65):\n",
    "        return 1 #\"Regular\"\n",
    "    else:\n",
    "        return 0 #\"Almost unknown\"\n",
    "\n",
    "data.insert(5, \"categorized popularity\", data.popularity.apply(score))"
   ]
  },
  {
   "cell_type": "code",
   "execution_count": null,
   "id": "07f59602-dc5d-46cc-ac48-95778ed1b6d6",
   "metadata": {},
   "outputs": [],
   "source": [
    "short_data = data.sample(30000, random_state = seed)\n",
    "short_data.info()"
   ]
  },
  {
   "cell_type": "code",
   "execution_count": null,
   "id": "a8c865ce-22de-4d23-8508-58f5ad32e08b",
   "metadata": {},
   "outputs": [],
   "source": [
    "X = short_data[['acousticness', 'instrumentalness', 'liveness', 'danceability', 'energy', \n",
    "                'speechiness', 'tempo', 'valence', 'duration_ms']]\n",
    "y = short_data['categorized popularity']"
   ]
  },
  {
   "cell_type": "code",
   "execution_count": null,
   "id": "15993ffc-c509-47dc-b916-2d732580b7c4",
   "metadata": {},
   "outputs": [],
   "source": [
    "tsne = TSNE(n_components = 2, random_state = seed, n_jobs = 6)\n",
    "X_reduced = tsne.fit_transform(X)"
   ]
  },
  {
   "cell_type": "code",
   "execution_count": null,
   "id": "d985b442-2d5d-4cc7-b6b3-e8d3f3d01dc5",
   "metadata": {},
   "outputs": [],
   "source": [
    "print('Projecting %d-dimensional data to 2D' % X.shape[1])\n",
    "\n",
    "plt.figure(figsize=(20,15))\n",
    "plt.scatter(X_reduced[:, 0], X_reduced[:, 1], c = y, \n",
    "            edgecolor = 'k', alpha = 0.7, s = 50,\n",
    "            cmap = plt.cm.get_cmap('nipy_spectral', 4))\n",
    "plt.colorbar()\n",
    "plt.show()"
   ]
  },
  {
   "cell_type": "code",
   "execution_count": null,
   "id": "3dc29836-ddb2-4ced-b766-292fbdb7e4ba",
   "metadata": {},
   "outputs": [],
   "source": [
    "from sklearn.cluster import KMeans\n",
    "from sklearn.metrics import silhouette_score"
   ]
  },
  {
   "cell_type": "code",
   "execution_count": null,
   "id": "0a183bcc-60bb-43c7-9b8a-3db21ce942c3",
   "metadata": {},
   "outputs": [],
   "source": [
    "y_pred4 = KMeans(n_clusters = 4, random_state = seed, algorithm = 'full').fit_predict(X_reduced)"
   ]
  },
  {
   "cell_type": "code",
   "execution_count": null,
   "id": "e4d7af25-8e36-4ba3-82f1-b1c30e92375c",
   "metadata": {
    "tags": []
   },
   "outputs": [],
   "source": [
    "plt.figure(figsize = (20,15))\n",
    "plt.scatter(X_reduced[:, 0], X_reduced[:, 1], c = y_pred4, \n",
    "            cmap = plt.cm.get_cmap('nipy_spectral', 4), \n",
    "            edgecolor = 'k') \n",
    "plt.colorbar()\n",
    "plt.show()"
   ]
  },
  {
   "cell_type": "code",
   "execution_count": null,
   "id": "79944909-ce4c-4a41-9bf6-a82baa1f25df",
   "metadata": {
    "tags": []
   },
   "outputs": [],
   "source": [
    "y_filtered = []\n",
    "y_zipped = []\n",
    "for i in range (4):\n",
    "    curr_y = list(zip(X_reduced[y_pred4 == i], y_pred4[y_pred4 == i]))\n",
    "    y_zipped.append(curr_y)\n",
    "    y_filtered.append([item[0] for item in curr_y])\n",
    "for i in range(4):\n",
    "    for item, j in zip(y_zipped[i], range(5)):\n",
    "        print(item)"
   ]
  },
  {
   "cell_type": "code",
   "execution_count": null,
   "id": "e1401717-278f-430e-b6b9-215edfced004",
   "metadata": {
    "tags": []
   },
   "outputs": [],
   "source": [
    "plt.figure(figsize = (15, 15))\n",
    "plt.imshow(plt.imread('data/lecture_screen.png'))\n",
    "plt.show()"
   ]
  },
  {
   "cell_type": "code",
   "execution_count": null,
   "id": "3578ed6f-5488-4766-93ac-badc73e51e2a",
   "metadata": {
    "tags": []
   },
   "outputs": [],
   "source": [
    "from math import hypot\n",
    "\n",
    "def dist(p1, p2) -> float:\n",
    "    return hypot(p2[0] - p1[0], p2[1] - p1[1])\n",
    "\n",
    "def inner_cluster (filtered) -> float:\n",
    "    n_clusters = len(filtered)\n",
    "    dist_sum = 0.0\n",
    "    cnt = 0\n",
    "    for c in range(n_clusters):\n",
    "        Xs = filtered[c]\n",
    "        for j in range (len(Xs)):\n",
    "            for i in range(j):\n",
    "                dist_sum += dist(Xs[i], Xs[j])\n",
    "                cnt += 1\n",
    "    return dist_sum / cnt\n",
    "\n",
    "def inter_cluster (filtered) -> float:\n",
    "    n_clusters = len(filtered)\n",
    "    dist_sum = 0.0\n",
    "    cnt = 0\n",
    "    for c2 in range(n_clusters):\n",
    "        for c1 in range(c2):\n",
    "            Xs1 = filtered[c1]\n",
    "            Xs2 = filtered[c2]\n",
    "            for i in range(len(Xs1)):\n",
    "                for j in range(len(Xs2)):\n",
    "                    dist_sum += dist(Xs1[i], Xs2[j])\n",
    "                    cnt += 1\n",
    "    return dist_sum / cnt"
   ]
  },
  {
   "cell_type": "code",
   "execution_count": null,
   "id": "8d55c6e0-edf8-40fb-8ef9-f661d62b170b",
   "metadata": {},
   "outputs": [],
   "source": [
    "inner = inner_cluster(y_filtered)"
   ]
  },
  {
   "cell_type": "code",
   "execution_count": null,
   "id": "a30da044-4e49-4a3c-b7c2-b298d64c417a",
   "metadata": {},
   "outputs": [],
   "source": [
    "inter = inter_cluster(y_filtered)"
   ]
  },
  {
   "cell_type": "code",
   "execution_count": null,
   "id": "039e4857-c44f-437a-b6e8-618c5342d945",
   "metadata": {},
   "outputs": [],
   "source": [
    "print(\"Mean incluster distance for 4 clusters: \", inner)\n",
    "print(\"Mean intercluster distance for 4 clusters:\", inter)\n",
    "print(\"Incluster / intercluster for 4 clusters: \", inner / inter)"
   ]
  },
  {
   "cell_type": "code",
   "execution_count": null,
   "id": "260f1d0d-2701-4d55-959a-e58a9d4f0e73",
   "metadata": {},
   "outputs": [],
   "source": [
    "#https://scikit-learn.org/stable/modules/clustering.html#silhouette-coefficient\n",
    "print(\"Silhouette score for 4 clusters: \", silhouette_score(X_reduced, y_pred4))"
   ]
  }
 ],
 "metadata": {
  "colab": {
   "name": "Lab-5.ipynb",
   "provenance": []
  },
  "kernelspec": {
   "display_name": "Python 3",
   "language": "python",
   "name": "python3"
  },
  "language_info": {
   "codemirror_mode": {
    "name": "ipython",
    "version": 3
   },
   "file_extension": ".py",
   "mimetype": "text/x-python",
   "name": "python",
   "nbconvert_exporter": "python",
   "pygments_lexer": "ipython3",
   "version": "3.8.8"
  }
 },
 "nbformat": 4,
 "nbformat_minor": 5
}
