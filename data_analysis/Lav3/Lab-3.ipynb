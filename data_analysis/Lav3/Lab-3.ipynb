{
 "cells": [
  {
   "cell_type": "markdown",
   "id": "twenty-training",
   "metadata": {},
   "source": [
    "# Меня ждут миллионы\n",
    "\n",
    "Обучите простую модель предсказания цены акций. Используйте один из рассмотренных на лекции \"Временные последовательности\" алгоритмов предсказания рядов. Можно использовать и более сложные алгоритмы предсказания рядов\n",
    "\n",
    "\n",
    "1. Найдите данные о цене любого биржевого актива\n",
    "\n",
    "    Данные должны содержать значение цены актива как минимум за каждый день и длительностю как минимум за год. \n",
    "\n",
    "    Найти данные можно на kaggle или использовать FAANG датасет из 1 лабораторной\n",
    "\n",
    "\n",
    "2. Предобработайте данные\n",
    "\n",
    "    Временной ряд сложно предсказывать по дням. Сделайте ряд по неделям или месяцам\n",
    "   \n",
    "    Удалите из ряда тренд, если он есть. Используйте другие рассмотренные на лекции приёмы\n",
    "\n",
    "\n",
    "3. Обучите модель\n",
    "    \n",
    "    Обучите модель на 80% временного ряда\n",
    "    \n",
    "    Предскажите оставшиеся 20% (как минимум 3 точки) ряда с помощью модели \n",
    "    \n",
    "    Отобразите на графике предсказание модели и истинные данные\n",
    "\n",
    "\n",
    "4. Посчитайте метрику\n",
    "\n",
    "    Метрика должна отражать разницу между предсказанными и истинными данными. Можно выбрать меру MAPE, можно предложить свою"
   ]
  },
  {
   "cell_type": "code",
   "execution_count": null,
   "id": "quarterly-tumor",
   "metadata": {},
   "outputs": [],
   "source": [
    "import matplotlib.pyplot as plt\n",
    "import numpy as np\n",
    "import pandas as pd\n",
    "import sklearn.metrics as metrics\n",
    "\n",
    "from tqdm import tqdm\n",
    "from statsmodels.tsa.seasonal import seasonal_decompose\n",
    "from statsmodels.tsa.stattools import acf, adfuller\n",
    "from statsmodels.graphics.tsaplots import plot_acf, plot_pacf\n",
    "\n",
    "from sklearn.model_selection import train_test_split"
   ]
  },
  {
   "cell_type": "code",
   "execution_count": null,
   "id": "aac658ff-eb25-4b17-9448-f649f353f73a",
   "metadata": {},
   "outputs": [],
   "source": [
    "data_init = pd.read_csv('data/google_stock.csv', parse_dates = [0])"
   ]
  },
  {
   "cell_type": "code",
   "execution_count": null,
   "id": "a4ddccf8-62a4-475d-8cc1-ad6a8d7ec45a",
   "metadata": {},
   "outputs": [],
   "source": [
    "data_init.info(); print()\n",
    "print(\"Shape:\", data_init.shape); print()\n",
    "print(data_init.head(5)); print()\n",
    "data_init.describe()"
   ]
  },
  {
   "cell_type": "code",
   "execution_count": null,
   "id": "ed613ecc-2b1e-4497-b9a1-d79559d2cd6b",
   "metadata": {},
   "outputs": [],
   "source": [
    "data_init['Date'] = data_init['Date'].dt.strftime('%Y-%U')\n",
    "data_init"
   ]
  },
  {
   "cell_type": "code",
   "execution_count": null,
   "id": "85f441dc-daf4-403b-8da9-fab2711a6c20",
   "metadata": {},
   "outputs": [],
   "source": [
    "data = pd.DataFrame(data_init.groupby('Date').High.mean())\n",
    "data"
   ]
  },
  {
   "cell_type": "code",
   "execution_count": null,
   "id": "4f20ef38-ff1d-407b-9fa9-a4db0a3e3abd",
   "metadata": {},
   "outputs": [],
   "source": [
    "plt.figure(figsize=(15, 5))\n",
    "plt.title('Time series')\n",
    "plt.xlabel('Date', fontsize=15)\n",
    "plt.ylabel('Price', rotation=90, fontsize=15)\n",
    "data['High'].plot();"
   ]
  },
  {
   "cell_type": "code",
   "execution_count": null,
   "id": "b41ee2f5-a275-46f6-a1a0-c5fb6df7d860",
   "metadata": {},
   "outputs": [],
   "source": [
    "fig, ax = plt.subplots(nrows = 4, ncols = 1, figsize = (15, 40))\n",
    "decompose = seasonal_decompose(data[['High']], period = 13)\n",
    "\n",
    "ax[0].set_title('Original')\n",
    "ax[1].set_title('Trend')\n",
    "ax[2].set_title('Seasonal')\n",
    "ax[3].set_title('Residual')\n",
    "\n",
    "decompose.observed.plot(ax = ax[0])\n",
    "decompose.trend.plot(ax = ax[1])\n",
    "decompose.seasonal.plot(ax = ax[2])\n",
    "decompose.resid.plot(ax = ax[3]);"
   ]
  },
  {
   "cell_type": "code",
   "execution_count": null,
   "id": "f36a2832-69c0-4df2-83bf-aae7e3bd7a3d",
   "metadata": {},
   "outputs": [],
   "source": [
    "fig, ax = plt.subplots(nrows = 2, ncols = 1, figsize = (15, 15))\n",
    "data['High'].plot(ax = ax[0])\n",
    "plot_acf(data['High'], lags = 24, ax = ax[1]);"
   ]
  },
  {
   "cell_type": "code",
   "execution_count": null,
   "id": "98ab9568-bbf6-4ca4-9b40-20bade45da07",
   "metadata": {},
   "outputs": [],
   "source": [
    "p_value = adfuller(data['High'])[1]\n",
    "print(p_value)\n",
    "print(\"p_value > 0.05? \", p_value > 0.05)"
   ]
  },
  {
   "cell_type": "code",
   "execution_count": null,
   "id": "d8fc0576-14f2-45f3-b380-da70a7f65ede",
   "metadata": {},
   "outputs": [],
   "source": [
    "data['High_log'] = np.log(data['High'])\n",
    "data.head(5)"
   ]
  },
  {
   "cell_type": "code",
   "execution_count": null,
   "id": "21919da5-261b-40ef-890a-6fba4f4b5a03",
   "metadata": {},
   "outputs": [],
   "source": [
    "plt.figure(figsize=(15, 10))\n",
    "plt.ylabel('Logged', rotation=0, labelpad=30)\n",
    "data['High_log'].plot();"
   ]
  },
  {
   "cell_type": "code",
   "execution_count": null,
   "id": "0212a638-4606-4896-91f2-aeed698a65a0",
   "metadata": {},
   "outputs": [],
   "source": [
    "data['High_diff'] = data['High'] - data['High'].shift(1)\n",
    "data.head(5)"
   ]
  },
  {
   "cell_type": "code",
   "execution_count": null,
   "id": "74297e69-e119-4b3a-812a-772bc8f4467d",
   "metadata": {},
   "outputs": [],
   "source": [
    "plt.subplots(nrows = 3, ncols = 1, figsize = (15, 15))\n",
    "\n",
    "ax = plt.subplot(311)\n",
    "ax.set_title('Before')\n",
    "ax.set_ylabel('High', rotation = 0, labelpad = 30)\n",
    "data['High'].plot(ax = ax);\n",
    "\n",
    "ax = plt.subplot(312)\n",
    "ax.set_title('Logged')\n",
    "ax.set_ylabel('High_log', rotation = 0, labelpad = 30)\n",
    "data['High_log'].plot(ax = ax);\n",
    "\n",
    "ax = plt.subplot(313)\n",
    "ax.set_title('Diffed')\n",
    "ax.set_ylabel('High_diff', rotation = 0, labelpad = 30)\n",
    "data['High_diff'].plot(ax = ax);"
   ]
  },
  {
   "cell_type": "code",
   "execution_count": null,
   "id": "5cb19bbd-d3fe-468d-8e1a-84c5804c5f83",
   "metadata": {},
   "outputs": [],
   "source": [
    "shifts = 1"
   ]
  },
  {
   "cell_type": "code",
   "execution_count": null,
   "id": "503c3942-5064-42a0-899f-d9255db52f36",
   "metadata": {},
   "outputs": [],
   "source": [
    "data['High_log_diff'] = data['High_log'] - data['High_log'].shift(shifts)\n",
    "data"
   ]
  },
  {
   "cell_type": "code",
   "execution_count": null,
   "id": "f81b4297-9f4d-4533-8236-84675dcaa3b6",
   "metadata": {},
   "outputs": [],
   "source": [
    "plt.subplots(nrows = 2, ncols = 1, figsize = (15, 15))\n",
    "\n",
    "ax = plt.subplot(211)\n",
    "ax.set_title('Before')\n",
    "ax.set_ylabel('High_log', rotation = 0, labelpad = 30)\n",
    "data['High_log'].plot(ax = ax);\n",
    "\n",
    "ax = plt.subplot(212)\n",
    "ax.set_title('Diffed')\n",
    "ax.set_ylabel('High_log_diff', rotation = 0, labelpad = 30)\n",
    "data['High_log_diff'].plot(ax = ax);"
   ]
  },
  {
   "cell_type": "code",
   "execution_count": null,
   "id": "187e99c5-802e-4a54-8fa8-4e311051ac20",
   "metadata": {},
   "outputs": [],
   "source": [
    "p_log_value = adfuller(data['High_log'])[1]\n",
    "p_diff_value = adfuller(data['High_diff'][1:])[1]\n",
    "p_log_diff_value = adfuller(data['High_log_diff'][shifts:])[1]\n",
    "\n",
    "print(\"p for log = \", p_log_value)\n",
    "print(\"p for diff = \", p_diff_value)\n",
    "print(\"p for diffed log = \", p_log_diff_value)\n",
    "\n",
    "plt.hist(data['High_log_diff'], density = True, bins = 40);"
   ]
  },
  {
   "cell_type": "code",
   "execution_count": null,
   "id": "6fee2b91-e68b-4317-bb3b-5b29acda9a48",
   "metadata": {},
   "outputs": [],
   "source": [
    "fig, ax = plt.subplots(nrows = 2, ncols = 1, figsize = (15, 15))\n",
    "data['High_log_diff'].plot(ax = ax[0])\n",
    "plot_acf(data['High_log_diff'][shifts:], lags = 26, ax = ax[1]);"
   ]
  },
  {
   "cell_type": "code",
   "execution_count": null,
   "id": "15f61de6-81cb-422a-b02f-d71fbdf438eb",
   "metadata": {},
   "outputs": [],
   "source": [
    "fig, ax = plt.subplots(nrows = 2, ncols = 1, figsize = (15, 20))\n",
    "decompose = seasonal_decompose(data['High_log_diff'][shifts:], period = 13)\n",
    "\n",
    "ax[0].set_title('Original')\n",
    "ax[1].set_title('Trend')\n",
    "\n",
    "decompose.observed.plot(ax = ax[0])\n",
    "decompose.trend.plot(ax = ax[1]);"
   ]
  },
  {
   "cell_type": "code",
   "execution_count": null,
   "id": "763c0fa6-9739-4804-baf4-71afd82f5a0f",
   "metadata": {},
   "outputs": [],
   "source": [
    "d=1\n",
    "D=1\n",
    "\n",
    "qs = range(1, 4) # 1\n",
    "Qs = range(1, 3) # 1\n",
    "\n",
    "ps = range(1, 4) # 1\n",
    "Ps = range(1, 4) # 1\n",
    "\n",
    "train_size = 210\n",
    "test_size = 53"
   ]
  },
  {
   "cell_type": "code",
   "execution_count": null,
   "id": "b9ae53cd-7bf7-46b2-8a1d-2a757a7d79bf",
   "metadata": {},
   "outputs": [],
   "source": [
    "from itertools import product\n",
    "parameters = product(ps, qs, Ps, Qs)\n",
    "parameters_list = list(parameters)\n",
    "len(parameters_list)"
   ]
  },
  {
   "cell_type": "code",
   "execution_count": null,
   "id": "87a1ab94-4608-4794-8348-2c3dc32dfeab",
   "metadata": {},
   "outputs": [],
   "source": [
    "train = data[:-test_size]"
   ]
  },
  {
   "cell_type": "code",
   "execution_count": null,
   "id": "1a0c1e5e-0391-40f5-b1a4-32e704e49875",
   "metadata": {},
   "outputs": [],
   "source": [
    "%%time\n",
    "import statsmodels.api as sm\n",
    "\n",
    "results = []\n",
    "best_aic = float(\"inf\")\n",
    "\n",
    "for param in tqdm(parameters_list):\n",
    "    try:\n",
    "        model = sm.tsa.statespace.SARIMAX(\n",
    "            train['High_log'], \n",
    "            order = (param[0], d, param[1]), \n",
    "            seasonal_order = (param[2], D, param[3], 13)\n",
    "        ).fit(disp = -1)\n",
    "    except ValueError:\n",
    "        print('wrong parameters:', param)\n",
    "        continue\n",
    "    aic = model.aic\n",
    "    if aic < best_aic:\n",
    "        best_model = model\n",
    "        best_aic = aic\n",
    "        best_param = param\n",
    "    results.append([param, model.aic])"
   ]
  },
  {
   "cell_type": "code",
   "execution_count": null,
   "id": "6c5b11b4-9ed1-4bfb-aa93-8d1e4c1ffcd8",
   "metadata": {},
   "outputs": [],
   "source": [
    "result_table = pd.DataFrame(results)\n",
    "result_table.columns = ['parameters', 'aic']\n",
    "print(result_table.sort_values(by = 'aic', ascending = True).head())\n",
    "print(best_model.summary())"
   ]
  },
  {
   "cell_type": "code",
   "execution_count": null,
   "id": "a9948cb0-3b42-4230-8f90-58af918da512",
   "metadata": {},
   "outputs": [],
   "source": [
    "plt.figure(figsize=(15,15))\n",
    "\n",
    "plt.subplot(211)\n",
    "best_model.resid[:-test_size].plot()\n",
    "\n",
    "ax = plt.subplot(212)\n",
    "sm.graphics.tsa.plot_acf(best_model.resid[:-test_size].values.squeeze(), lags=26, ax=ax);"
   ]
  },
  {
   "cell_type": "code",
   "execution_count": null,
   "id": "62ca1611-9191-40cd-9075-dce370dd9987",
   "metadata": {},
   "outputs": [],
   "source": [
    "data['Model'] = np.exp(best_model.fittedvalues)\n",
    "\n",
    "plt.figure(figsize=(15, 20))\n",
    "\n",
    "plt.subplot(211)\n",
    "data['High'][:-test_size].plot()\n",
    "data['Model'][:-test_size].plot(c = 'r');\n",
    "\n",
    "plt.subplot(212)\n",
    "data['High'][13:-test_size].plot()\n",
    "data['Model'][14:-test_size].plot(c = 'r');"
   ]
  },
  {
   "cell_type": "code",
   "execution_count": null,
   "id": "564e588d-14b4-4429-802b-3975decc89cc",
   "metadata": {},
   "outputs": [],
   "source": [
    "print(data.shape)\n",
    "print(data.head(5))\n",
    "print(data.tail(5))"
   ]
  },
  {
   "cell_type": "code",
   "execution_count": null,
   "id": "f9c2588b-f58f-40c4-8b03-4b246c1ea74f",
   "metadata": {},
   "outputs": [],
   "source": [
    "plt.figure(figsize=(15,10))\n",
    "data['High'][13:].plot()\n",
    "data['Model'][train_size:]= np.exp(best_model.predict(start = train_size, end = train_size + test_size - 1))\n",
    "   \n",
    "data['Model'][14:].plot(c = 'y')\n",
    "data['Model'][14:train_size].plot(c = 'r') "
   ]
  },
  {
   "cell_type": "code",
   "execution_count": null,
   "id": "0fafd7d6-ce83-4154-92aa-4299ed3e9612",
   "metadata": {},
   "outputs": [],
   "source": [
    "def SMAPE(actual, forecasted):\n",
    "    delim = np.abs(forecasted - actual).sum()\n",
    "    denom = (forecasted + actual).sum()\n",
    "    return delim / denom * 100\n",
    "    \n",
    "SMAPE(data['High'][train_size:], data['Model'][train_size:])"
   ]
  },
  {
   "cell_type": "code",
   "execution_count": null,
   "id": "7ce4ebac-4f6a-4232-8ed8-44794c3cf134",
   "metadata": {},
   "outputs": [],
   "source": [
    "print(metrics.mean_absolute_percentage_error(data['High'][train_size:], data['Model'][train_size:]) * 100)"
   ]
  },
  {
   "cell_type": "raw",
   "id": "f51125ec-ff22-4f48-b3b7-8e286e47ac01",
   "metadata": {},
   "source": [
    "12.98812539696193\n",
    "21.55271763987957"
   ]
  }
 ],
 "metadata": {
  "kernelspec": {
   "display_name": "Python 3",
   "language": "python",
   "name": "python3"
  },
  "language_info": {
   "codemirror_mode": {
    "name": "ipython",
    "version": 3
   },
   "file_extension": ".py",
   "mimetype": "text/x-python",
   "name": "python",
   "nbconvert_exporter": "python",
   "pygments_lexer": "ipython3",
   "version": "3.8.8"
  }
 },
 "nbformat": 4,
 "nbformat_minor": 5
}
