{
 "cells": [
  {
   "cell_type": "code",
   "execution_count": 1,
   "id": "5ed7d4fa-91ad-49a3-bfb4-bbcc561783d1",
   "metadata": {},
   "outputs": [],
   "source": [
    "#python -m venv test_suite"
   ]
  },
  {
   "cell_type": "code",
   "execution_count": 2,
   "id": "44e6217f-4d50-4c25-85d4-b3c4447630fa",
   "metadata": {},
   "outputs": [],
   "source": [
    "#python -m ipykernel install --user --name=test_suite"
   ]
  },
  {
   "cell_type": "code",
   "execution_count": 3,
   "id": "15982064-377b-46f0-82f4-66ca0c5b97de",
   "metadata": {},
   "outputs": [],
   "source": [
    "#!test_suite\\Scripts\\activate.bat"
   ]
  },
  {
   "cell_type": "code",
   "execution_count": 4,
   "id": "2072fce3-d315-45de-b543-59da3789f410",
   "metadata": {},
   "outputs": [
    {
     "name": "stdout",
     "output_type": "stream",
     "text": [
      "Requirement already satisfied: xagen37_fast_hist in c:\\programmes\\homework\\python\\lav2\\test_suite\\lib\\site-packages (0.6.0)\n",
      "Collecting numpy>=1.20\n",
      "  Using cached numpy-1.21.2-cp38-cp38-win_amd64.whl (14.0 MB)\n",
      "Installing collected packages: numpy\n",
      "  Attempting uninstall: numpy\n",
      "    Found existing installation: numpy 1.19.0\n",
      "    Uninstalling numpy-1.19.0:\n",
      "      Successfully uninstalled numpy-1.19.0\n",
      "Successfully installed numpy-1.21.2\n"
     ]
    },
    {
     "name": "stderr",
     "output_type": "stream",
     "text": [
      "ERROR: pip's dependency resolver does not currently take into account all the packages that are installed. This behaviour is the source of the following dependency conflicts.\n",
      "xagen37-fast-hist-conflict 0.3.0 requires numpy<=1.19, but you have numpy 1.21.2 which is incompatible.\n",
      "ERROR: pip's dependency resolver does not currently take into account all the packages that are installed. This behaviour is the source of the following dependency conflicts.\n",
      "xagen37-fast-hist 0.6.0 requires numpy>=1.20, but you have numpy 1.19.0 which is incompatible.\n"
     ]
    },
    {
     "name": "stdout",
     "output_type": "stream",
     "text": [
      "Requirement already satisfied: xagen37_fast_hist_conflict in c:\\programmes\\homework\\python\\lav2\\test_suite\\lib\\site-packages (0.3.0)\n",
      "Collecting numpy<=1.19\n",
      "  Using cached numpy-1.19.0-cp38-cp38-win_amd64.whl (13.0 MB)\n",
      "Installing collected packages: numpy\n",
      "  Attempting uninstall: numpy\n",
      "    Found existing installation: numpy 1.21.2\n",
      "    Uninstalling numpy-1.21.2:\n",
      "      Successfully uninstalled numpy-1.21.2\n",
      "Successfully installed numpy-1.19.0\n"
     ]
    }
   ],
   "source": [
    "import sys\n",
    "\n",
    "!{sys.executable} -m pip install xagen37_fast_hist\n",
    "!{sys.executable} -m pip install xagen37_fast_hist_conflict"
   ]
  },
  {
   "cell_type": "code",
   "execution_count": 5,
   "id": "cdf0009c-cb13-4335-acbf-4e64e706b979",
   "metadata": {
    "tags": []
   },
   "outputs": [
    {
     "data": {
      "text/plain": [
       "['C:\\\\Programmes\\\\Homework\\\\PyThOn\\\\Lav2',\n",
       " 'C:\\\\ProgramData\\\\Anaconda3\\\\python38.zip',\n",
       " 'C:\\\\ProgramData\\\\Anaconda3\\\\DLLs',\n",
       " 'C:\\\\ProgramData\\\\Anaconda3\\\\lib',\n",
       " 'C:\\\\ProgramData\\\\Anaconda3',\n",
       " 'C:\\\\Programmes\\\\Homework\\\\PyThOn\\\\Lav2\\\\test_suite',\n",
       " '',\n",
       " 'C:\\\\Programmes\\\\Homework\\\\PyThOn\\\\Lav2\\\\test_suite\\\\lib\\\\site-packages',\n",
       " 'C:\\\\Programmes\\\\Homework\\\\PyThOn\\\\Lav2\\\\test_suite\\\\lib\\\\site-packages\\\\win32',\n",
       " 'C:\\\\Programmes\\\\Homework\\\\PyThOn\\\\Lav2\\\\test_suite\\\\lib\\\\site-packages\\\\win32\\\\lib',\n",
       " 'C:\\\\Programmes\\\\Homework\\\\PyThOn\\\\Lav2\\\\test_suite\\\\lib\\\\site-packages\\\\Pythonwin',\n",
       " 'C:\\\\Programmes\\\\Homework\\\\PyThOn\\\\Lav2\\\\test_suite\\\\lib\\\\site-packages\\\\IPython\\\\extensions',\n",
       " 'C:\\\\Users\\\\Sofr1\\\\.ipython']"
      ]
     },
     "execution_count": 5,
     "metadata": {},
     "output_type": "execute_result"
    }
   ],
   "source": [
    "sys.path"
   ]
  }
 ],
 "metadata": {
  "kernelspec": {
   "display_name": "test_suite",
   "language": "python",
   "name": "test_suite"
  },
  "language_info": {
   "codemirror_mode": {
    "name": "ipython",
    "version": 3
   },
   "file_extension": ".py",
   "mimetype": "text/x-python",
   "name": "python",
   "nbconvert_exporter": "python",
   "pygments_lexer": "ipython3",
   "version": "3.8.8"
  }
 },
 "nbformat": 4,
 "nbformat_minor": 5
}
