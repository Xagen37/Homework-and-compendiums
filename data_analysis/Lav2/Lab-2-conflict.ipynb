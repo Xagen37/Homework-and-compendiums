{
 "cells": [
  {
   "cell_type": "code",
   "execution_count": null,
   "id": "5ed7d4fa-91ad-49a3-bfb4-bbcc561783d1",
   "metadata": {},
   "outputs": [],
   "source": [
    "#python -m venv test_suite"
   ]
  },
  {
   "cell_type": "code",
   "execution_count": null,
   "id": "44e6217f-4d50-4c25-85d4-b3c4447630fa",
   "metadata": {},
   "outputs": [],
   "source": [
    "#python -m ipykernel install --user --name=test_suite"
   ]
  },
  {
   "cell_type": "code",
   "execution_count": null,
   "id": "15982064-377b-46f0-82f4-66ca0c5b97de",
   "metadata": {},
   "outputs": [],
   "source": [
    "#!test_suite\\Scripts\\activate.bat"
   ]
  },
  {
   "cell_type": "code",
   "execution_count": null,
   "id": "2072fce3-d315-45de-b543-59da3789f410",
   "metadata": {},
   "outputs": [],
   "source": [
    "import sys\n",
    "\n",
    "!{sys.executable} -m pip install xagen37_fast_hist\n",
    "!{sys.executable} -m pip install xagen37_fast_hist_conflict"
   ]
  },
  {
   "cell_type": "code",
   "execution_count": null,
   "id": "cdf0009c-cb13-4335-acbf-4e64e706b979",
   "metadata": {
    "tags": []
   },
   "outputs": [],
   "source": [
    "sys.path"
   ]
  }
 ],
 "metadata": {
  "kernelspec": {
   "display_name": "test_suite",
   "language": "python",
   "name": "test_suite"
  },
  "language_info": {
   "codemirror_mode": {
    "name": "ipython",
    "version": 3
   },
   "file_extension": ".py",
   "mimetype": "text/x-python",
   "name": "python",
   "nbconvert_exporter": "python",
   "pygments_lexer": "ipython3",
   "version": "3.8.8"
  }
 },
 "nbformat": 4,
 "nbformat_minor": 5
}
