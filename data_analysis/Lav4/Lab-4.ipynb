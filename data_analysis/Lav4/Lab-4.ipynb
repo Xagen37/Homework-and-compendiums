{
 "cells": [
  {
   "cell_type": "markdown",
   "id": "infectious-bradley",
   "metadata": {},
   "source": [
    "# Задание из четвёртой лабы\n",
    "\n",
    "Обучите один из алгоритмов классификации из библиотеки sklearn. Объяснять принцип работы классификатора в этой лабораторной не требуется\n",
    "\n",
    "1. Выберите один из датасетов первой лабораторной\n",
    "\n",
    "\n",
    "2. Найдите в данных признак, который будете предсказывать\n",
    "    \n",
    "    Если это категория, то у неё должно быть от 2 до 10 значений (например колонка species в датасете миграции птиц содержит 3 категории)\n",
    "    \n",
    "    Если признак количественный, то его нужно дискретизировать (например для популярности трека в датасете spotify можно разделить треки на 3 категории: 0-20 - популярные, 21-50 - обычные, 51 - 100 - непопулярные). Полученную категорию записать в датафрейм как отдельную колонку\n",
    "\n",
    "\n",
    "3. Выделите признаки для предсказания\n",
    "    \n",
    "    Используйте от 2 до 5 количественных признаков для предсказания целевой переменной\n",
    "\n",
    "\n",
    "4. Проверьте нормальность количественных признаков\n",
    "    \n",
    "    Используйте статистический тест из лекции. Если распределение является лог-нормальным, логарифмируйте его и проверьте на нормальность\n",
    "    \n",
    "    Как минимум 1 из признаков должен быть нормальным\n",
    "\n",
    "\n",
    "5. Покажите качество предсказания модели с помощью метрик\n",
    "\n",
    "    Метрика должна учитывать баланс классов в датасете"
   ]
  },
  {
   "cell_type": "code",
   "execution_count": null,
   "id": "powered-leeds",
   "metadata": {},
   "outputs": [],
   "source": [
    "import matplotlib.pyplot as plt\n",
    "import numpy as np\n",
    "import pandas as pd\n",
    "from scipy import stats\n",
    "seed = 0"
   ]
  },
  {
   "cell_type": "code",
   "execution_count": null,
   "id": "f918e061-8ab5-4aea-b6c7-8af6587bef6a",
   "metadata": {},
   "outputs": [],
   "source": [
    "data = pd.read_csv('data/SpotifyFeatures.csv')"
   ]
  },
  {
   "cell_type": "code",
   "execution_count": null,
   "id": "a3655071-472f-4763-a4a7-5e2c2e9a8c6f",
   "metadata": {
    "tags": []
   },
   "outputs": [],
   "source": [
    "data.info()\n",
    "data.head(5)"
   ]
  },
  {
   "cell_type": "code",
   "execution_count": null,
   "id": "ab386aca-5e92-42fd-9cbe-dd56b8cf625c",
   "metadata": {},
   "outputs": [],
   "source": [
    "def score(popularity: int) -> str:\n",
    "    if (popularity < 15):\n",
    "        return \"Very popular\"\n",
    "    elif (popularity < 35):\n",
    "        return \"Popular\"\n",
    "    elif (popularity < 65):\n",
    "        return \"Regular\"\n",
    "    else:\n",
    "        return \"Almost unknown\"\n",
    "\n",
    "data.insert(5, \"categorized popularity\", data.popularity.apply(score))"
   ]
  },
  {
   "cell_type": "code",
   "execution_count": null,
   "id": "fd625a32-8edb-499e-b2b7-1a619e8adc6a",
   "metadata": {},
   "outputs": [],
   "source": [
    "data.info()\n",
    "data.sample(5)"
   ]
  },
  {
   "cell_type": "code",
   "execution_count": null,
   "id": "33389912-1690-4db1-9963-f9ff17c5d2a5",
   "metadata": {},
   "outputs": [],
   "source": [
    "X = data[['liveness', 'danceability', 'energy', 'speechiness', 'tempo']]\n",
    "y = data['categorized popularity']\n",
    "Y = y.to_frame()\n",
    "X.info(); print()\n",
    "Y.info(); print()\n",
    "Y.describe()"
   ]
  },
  {
   "cell_type": "code",
   "execution_count": null,
   "id": "97488bc2-be6d-4f0a-b34c-bec125733ecf",
   "metadata": {},
   "outputs": [],
   "source": [
    "plt.hist(y, bins = np.arange(5) - 0.25, width = 0.5) \n",
    "plt.show()"
   ]
  },
  {
   "cell_type": "code",
   "execution_count": null,
   "id": "153e6afd-b987-40a4-b2dc-6b11357b5c5e",
   "metadata": {},
   "outputs": [],
   "source": [
    "def count_mean_p(sample):\n",
    "    p_values = np.empty(10)\n",
    "    for i in range(p_values.size):\n",
    "        _, p_values[i] = stats.normaltest(sample)\n",
    "    return p_values.mean()\n",
    "\n",
    "print('Assume alpha is 0.05. If label is normally distributed, then its p-value must be greater than alpha', end = '\\n\\n')\n",
    "for label in X:\n",
    "    series = data[label]\n",
    "    sample = series.sample(100, random_state = seed)\n",
    "    p = count_mean_p(sample)\n",
    "    print('norm test for ' + label + ' : ' + str(p))\n",
    "    if (p < 0.05):\n",
    "        min_val = series.min()\n",
    "        if (min_val == 0):\n",
    "            print('cannot lognorm here')\n",
    "        else:\n",
    "            max_val = series.max()\n",
    "            sample = (-min_val + sample) / (max_val - min_val)\n",
    "            sample = np.log(sample)\n",
    "            p = count_mean_p(sample)\n",
    "            print('lognorm test for ' + label + ' : ' + str(p))\n",
    "    print()"
   ]
  },
  {
   "cell_type": "code",
   "execution_count": null,
   "id": "69ba154f-dc52-4d8f-aca3-c4b8b4e3f922",
   "metadata": {},
   "outputs": [],
   "source": [
    "from sklearn.kernel_approximation import RBFSampler, Nystroem\n",
    "from sklearn.linear_model import SGDClassifier\n",
    "from sklearn.model_selection import train_test_split\n",
    "from sklearn import metrics\n",
    "from sklearn.model_selection import cross_val_score"
   ]
  },
  {
   "cell_type": "code",
   "execution_count": null,
   "id": "2fa1d106-6335-4ab9-84f5-d7a01cbcdb11",
   "metadata": {},
   "outputs": [],
   "source": [
    "def pretty_print(vals_with_counts):\n",
    "    vals = vals_with_counts[0]\n",
    "    counts = vals_with_counts[1]\n",
    "    for i in range (len(vals)):\n",
    "        print(vals[i], \": \", counts[i], end = '; ')\n",
    "    print()"
   ]
  },
  {
   "cell_type": "code",
   "execution_count": null,
   "id": "78241e75-de2d-46fa-a424-fb885c43dfdd",
   "metadata": {},
   "outputs": [],
   "source": [
    "X_train, X_test, y_train, y_test = train_test_split(X, y, shuffle=True, \\\n",
    "                                                    stratify=y, test_size=0.2)\n",
    "sgd_clf = SGDClassifier(random_state = seed)\n",
    "sgd_clf.fit(X_train, y_train)\n",
    "sgd_pred = sgd_clf.predict(X_test)\n",
    "\n",
    "precision = metrics.precision_score(y_test, sgd_pred, average = 'weighted')\n",
    "recall = metrics.recall_score(y_test, sgd_pred, average = 'weighted')\n",
    "f1 = metrics.f1_score(y_test, sgd_pred, average = 'weighted')\n",
    "fbeta = metrics.fbeta_score(y_test, sgd_pred, average = 'weighted', beta = 2)"
   ]
  },
  {
   "cell_type": "code",
   "execution_count": null,
   "id": "9a22e852-c113-4fb0-a629-b72e520db6c7",
   "metadata": {},
   "outputs": [],
   "source": [
    "pretty_print(np.unique(sgd_pred, return_counts = True))\n",
    "pretty_print(np.unique(y_test, return_counts = True))\n",
    "print('precision: ', precision) # true positive results divided by the number of all positive results, including those not identified correctly\n",
    "print('recall: ', recall)       # true positive results divided by the number of all samples that should have been identified as positive\n",
    "print('f1: ', f1)               # harmonic mean of precision and recall\n",
    "print('fbeta: ', fbeta)         # recall is considered beta times as important as precision\n",
    "print('cross_val_f1: ', cross_val_score(sgd_clf, X, y, cv = 5, scoring = 'f1_weighted').mean())"
   ]
  },
  {
   "cell_type": "code",
   "execution_count": null,
   "id": "fc9fd2ad-cfbc-48f7-afa6-f2376f9d6a57",
   "metadata": {},
   "outputs": [],
   "source": [
    "nystr_feature = Nystroem(random_state = seed) \n",
    "rbf_feature = RBFSampler(gamma = 1, random_state = seed)\n",
    "X_features_nystr = nystr_feature.fit_transform(X)\n",
    "X_features_rbf = rbf_feature.fit_transform(X)"
   ]
  },
  {
   "cell_type": "code",
   "execution_count": null,
   "id": "033ba9d4-df14-45f7-bbdc-e2bd6e291b68",
   "metadata": {},
   "outputs": [],
   "source": [
    "X_train, X_test, y_train, y_test = train_test_split(X_features_nystr, y, shuffle=True, \\\n",
    "                                                    stratify=y, test_size=0.2)\n",
    "sgd_clf = SGDClassifier(random_state = seed)\n",
    "\n",
    "sgd_clf.fit(X_train, y_train)\n",
    "sgd_pred = sgd_clf.predict(X_test)\n",
    "\n",
    "precision = metrics.precision_score(y_test, sgd_pred, average = 'weighted')\n",
    "recall = metrics.recall_score(y_test, sgd_pred, average = 'weighted')\n",
    "f1 = metrics.f1_score(y_test, sgd_pred, average = 'weighted')\n",
    "fbeta = metrics.fbeta_score(y_test, sgd_pred, average = 'weighted', beta = 2)"
   ]
  },
  {
   "cell_type": "code",
   "execution_count": null,
   "id": "1d7c7440-7a84-448b-8f6f-e344b8afe4fd",
   "metadata": {},
   "outputs": [],
   "source": [
    "pretty_print(np.unique(sgd_pred, return_counts = True))\n",
    "pretty_print(np.unique(y_test, return_counts = True))\n",
    "print('precision: ', precision)\n",
    "print('recall: ', recall)\n",
    "print('f1: ', f1)\n",
    "print('fbeta: ', fbeta)\n",
    "print('cross_val_f1: ', cross_val_score(sgd_clf, X_features_nystr, y, cv = 5, scoring = 'f1_weighted').mean())"
   ]
  },
  {
   "cell_type": "code",
   "execution_count": null,
   "id": "1f8c866e-1913-4a3b-8009-968b06573ff1",
   "metadata": {},
   "outputs": [],
   "source": [
    "X_train, X_test, y_train, y_test = train_test_split(X_features_rbf, y, shuffle=True, \\\n",
    "                                                    stratify=y, test_size=0.2)\n",
    "sgd_clf = SGDClassifier(random_state = seed)\n",
    "sgd_clf.fit(X_train, y_train)\n",
    "sgd_pred = sgd_clf.predict(X_test)\n",
    "\n",
    "precision = metrics.precision_score(y_test, sgd_pred, average = 'weighted')\n",
    "recall = metrics.recall_score(y_test, sgd_pred, average = 'weighted')\n",
    "f1 = metrics.f1_score(y_test, sgd_pred, average = 'weighted')\n",
    "fbeta = metrics.fbeta_score(y_test, sgd_pred, average = 'weighted', beta = 2)"
   ]
  },
  {
   "cell_type": "code",
   "execution_count": null,
   "id": "4e62eaf7-3a84-47d9-979e-b3ac1ee4114c",
   "metadata": {},
   "outputs": [],
   "source": [
    "pretty_print(np.unique(sgd_pred, return_counts = True))\n",
    "pretty_print(np.unique(y_test, return_counts = True))\n",
    "print('precision: ', precision)\n",
    "print('recall: ', recall)\n",
    "print('f1: ', f1)\n",
    "print('fbeta: ', fbeta)\n",
    "print('cross_val_f1: ', cross_val_score(sgd_clf, X_features_rbf, y, cv = 5, scoring = 'f1_weighted').mean())"
   ]
  },
  {
   "cell_type": "code",
   "execution_count": null,
   "id": "5e9486eb-1b97-42bc-81db-28561cc15e19",
   "metadata": {},
   "outputs": [],
   "source": []
  }
 ],
 "metadata": {
  "kernelspec": {
   "display_name": "Python 3",
   "language": "python",
   "name": "python3"
  },
  "language_info": {
   "codemirror_mode": {
    "name": "ipython",
    "version": 3
   },
   "file_extension": ".py",
   "mimetype": "text/x-python",
   "name": "python",
   "nbconvert_exporter": "python",
   "pygments_lexer": "ipython3",
   "version": "3.8.8"
  }
 },
 "nbformat": 4,
 "nbformat_minor": 5
}
