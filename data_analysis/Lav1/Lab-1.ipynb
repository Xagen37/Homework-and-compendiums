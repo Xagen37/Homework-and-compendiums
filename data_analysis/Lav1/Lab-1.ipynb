{
 "cells": [
  {
   "cell_type": "markdown",
   "id": "8b1d8620-a080-4949-9a2f-49a753b149de",
   "metadata": {},
   "source": [
    "# 1. Предобработка\n",
    "\n",
    "\n",
    "Выберите набор данных из списка в конце задания. Обработайте данные в нём:\n",
    "\n",
    "1. Обработайте недостающие данные в датасете - удалить/заменить/etc, обоснуйте своё решение\n",
    "1. Постройте как минимум по 1 графику каждого типа из представленных на лекции. Для каждого построенного графика объясните почему отображённые данные лучше всего представимы именно этим типом графика\n",
    "1. Сохраните датасет\n",
    "\n",
    "\n",
    "1. Создайте новую колонку, отображающую характеристику набора данных. Новая колонка должна обладать смысловой нагрузкой. \n",
    "\n",
    "    Например, для набора данных о прямоугольниках с двумя колонками width и height будет корректно придумать колонку square, равную width * height или perimeter Некорректно будет придумать колонку width2, равную width * 2, потому что эта информация не будет нести полезную информацию о фигурах\n",
    "\n",
    "Не оценивается баллами, но даёт очки уважения:\n",
    "1. Выдвиньте 2 гипотезы о данных. Например, для датасета codeforces достаточно интересной гипотезой может быть \"простые задачи (рейтинг меньше 1500) почти всегда решаются больше 5000 раз\"\n",
    "\n",
    "\n",
    "Наборы данных:\n",
    "\n",
    "1. [Spotify Tracks DB](https://www.kaggle.com/zaheenhamidani/ultimate-spotify-tracks-db) - характеристики треков в spotify\n",
    "1. [VKontakte Dataset of Users' Textual Data](https://www.kaggle.com/oldaandozerskaya/vkontakte-dataset-of-users-textual-data) 1. основная информация 10к профилей ВК\n",
    "1. [Data Science for COVID-19](https://www.kaggle.com/kimjihoo/coronavirusdataset) - информация о распространении коронавируса в Южной Корее в 2020 году\n",
    "1. [Dota 2 - Pro Players Matches Results 2019 ~ 2021](https://www.kaggle.com/devinanzelmo/dota-2-matches?select=player_ratings.csv) - информация матчей игроков DoTA 2. Если данные не влезают в память, можно воспользоваться [аналогом pandas](https://dask.org/) для обработки вне RAM\n",
    "1. [GPS Data of Seabirds](https://www.kaggle.com/saurabhshahane/predicting-animal-behavior-using-gps) - данные о миграции птиц\n",
    "1. [FAANG Historical Stock Price Data](https://www.kaggle.com/specter7/amazon-amzn-historical-stock-price-data) -  данные о биржевых котировках компаний FAANG c 2016 по 2021 год\n",
    "1. [NBA 2k20 player dataset](https://www.kaggle.com/isaienkov/nba2k20-player-dataset) - информация об игроках NBA\n",
    "1. [Anime dataset](https://www.kaggle.com/thunderz/anime-dataset?select=user_data.csv) - данные о просмотре аниме пользователями с сайта myAnimeList"
   ]
  },
  {
   "cell_type": "code",
   "execution_count": null,
   "id": "9e99c456",
   "metadata": {
    "tags": []
   },
   "outputs": [],
   "source": [
    "import pandas as pd\n",
    "import matplotlib.pyplot as plt\n",
    "import numpy as np"
   ]
  },
  {
   "cell_type": "code",
   "execution_count": null,
   "id": "fdb8bbf4-9b56-4a89-b0c6-275fbae68afd",
   "metadata": {},
   "outputs": [],
   "source": [
    "np.__version__"
   ]
  },
  {
   "cell_type": "code",
   "execution_count": null,
   "id": "758bfc1b",
   "metadata": {},
   "outputs": [],
   "source": [
    "ani_data = pd.read_csv('data/anime_data.csv', parse_dates = [1, 2])\n",
    "ani_data.head(5)"
   ]
  },
  {
   "cell_type": "code",
   "execution_count": null,
   "id": "4c1edf5c",
   "metadata": {},
   "outputs": [],
   "source": [
    "# convert date strings to dates in yyyy-mm-dd format\n",
    "ani_data['aired_from'] = pd.to_datetime(ani_data['aired_from'].dt.date)\n",
    "ani_data['aired_to'] = pd.to_datetime(ani_data['aired_to'].dt.date)"
   ]
  },
  {
   "cell_type": "code",
   "execution_count": null,
   "id": "db0eae4f",
   "metadata": {},
   "outputs": [],
   "source": [
    "# drop animes, which release dates we do not know\n",
    "ani_data.dropna(subset=['aired_from', 'rank'], inplace = True)\n",
    "# if aired_to is NaN, this anime was aired in one day\n",
    "ani_data['aired_to'].fillna(ani_data['aired_from'], inplace=True)"
   ]
  },
  {
   "cell_type": "code",
   "execution_count": null,
   "id": "125eed5b",
   "metadata": {},
   "outputs": [],
   "source": [
    "# helper function to translate quarter to season\n",
    "quarter_to_season = {1 : 'Winter', 2 : 'Spring', 3 : 'Summer', 4 : 'Fall'}\n",
    "\n",
    "# fill premiered with corresponding air time transformed to match existing format\n",
    "ani_data['premiered'].fillna(\\\n",
    "                    ani_data['aired_from'].transform(\\\n",
    "                    lambda d: quarter_to_season[d.quarter] + ' ' + str(d.year)), inplace=True)"
   ]
  },
  {
   "cell_type": "code",
   "execution_count": null,
   "id": "575c06e1",
   "metadata": {
    "scrolled": true
   },
   "outputs": [],
   "source": [
    "# we cannot replace synopsis, if there is none. Not that we really need to do that\n",
    "ani_data['synopsis'].fillna(\"\", inplace = True)\n",
    "# not having a localized title is a common practice\n",
    "ani_data['title_english'].fillna(ani_data['title'], inplace = True)"
   ]
  },
  {
   "cell_type": "code",
   "execution_count": null,
   "id": "84f6b474",
   "metadata": {},
   "outputs": [],
   "source": [
    "ani_data.info()\n",
    "ani_data.head(5)"
   ]
  },
  {
   "cell_type": "code",
   "execution_count": null,
   "id": "c8a1552a",
   "metadata": {},
   "outputs": [],
   "source": [
    "ani_data.to_csv('data/anime_data_preprocessed.csv')"
   ]
  },
  {
   "cell_type": "code",
   "execution_count": null,
   "id": "106cb0b4",
   "metadata": {},
   "outputs": [],
   "source": [
    "plt.rcParams['figure.figsize'] = (20, 10)"
   ]
  },
  {
   "cell_type": "code",
   "execution_count": null,
   "id": "24a0d333",
   "metadata": {},
   "outputs": [],
   "source": [
    "# simple plot\n",
    "grouped_by_aired = ani_data.groupby(ani_data['aired_from'].dt.year)\n",
    "\n",
    "plt.plot(grouped_by_aired['scored_by'].mean())\n",
    "plt.title('Number of reviewers, depending on air year')\n",
    "plt.xlabel('Year')\n",
    "plt.ylabel('Average number of reviewers')\n",
    "plt.show()"
   ]
  },
  {
   "cell_type": "code",
   "execution_count": null,
   "id": "3dc26720",
   "metadata": {},
   "outputs": [],
   "source": [
    "# histogram\n",
    "plt.hist(ani_data.source, bins = ani_data.source.nunique() - 1, align = 'left', rwidth = 0.9)\n",
    "plt.xticks(range(ani_data.source.nunique()))\n",
    "plt.xlabel('Anime source')\n",
    "plt.ylabel('Number of titles')\n",
    "plt.autoscale(enable = True, axis = 'x', tight = True)\n",
    "plt.show()"
   ]
  },
  {
   "cell_type": "code",
   "execution_count": null,
   "id": "3f5f5027",
   "metadata": {},
   "outputs": [],
   "source": [
    "# 2d-histogtam\n",
    "grouped_by_scored = ani_data.groupby(pd.cut(ani_data['scored_by'], np.arange(0, 1600000, 50000))).median().fillna(0)\n",
    "plt.hist2d(grouped_by_scored['score'], grouped_by_scored['scored_by'].apply(lambda x: x // 1000),\n",
    "           bins = (20, 15),\n",
    "           cmap = plt.cm.BuPu\n",
    "           )\n",
    "plt.xlabel('Score')\n",
    "plt.ylabel('Scored by (in thousands)')\n",
    "plt.show()"
   ]
  },
  {
   "cell_type": "code",
   "execution_count": null,
   "id": "9f126b09",
   "metadata": {},
   "outputs": [],
   "source": [
    "# Sparse\n",
    "plt.scatter(ani_data['aired_from'].dt.year, ani_data['score'])\n",
    "plt.xlabel('Year')\n",
    "plt.ylabel('Score')\n",
    "plt.show()"
   ]
  },
  {
   "cell_type": "code",
   "execution_count": null,
   "id": "773c4546",
   "metadata": {},
   "outputs": [],
   "source": [
    "# Boxplot: score distribution\n",
    "plt.boxplot(ani_data['score'],\n",
    "            vert = False, \n",
    "            whis = 0.99)\n",
    "plt.yticks([])\n",
    "plt.title('Score distribution')\n",
    "plt.xlabel('Score')\n",
    "plt.show()"
   ]
  },
  {
   "cell_type": "code",
   "execution_count": null,
   "id": "d6a8211c",
   "metadata": {},
   "outputs": [],
   "source": [
    "# Boxplot: number of episodes distribution\n",
    "plt.boxplot(ani_data['episodes'],\n",
    "            vert = False, \n",
    "            whis = 0.95)\n",
    "plt.yticks([])\n",
    "plt.title('Anime length (in episodes) distribution')\n",
    "plt.xlabel('Number of episodes')\n",
    "plt.xscale('log')\n",
    "plt.show()"
   ]
  },
  {
   "cell_type": "code",
   "execution_count": null,
   "id": "9d01a14d",
   "metadata": {},
   "outputs": [],
   "source": [
    "def convert_to_minutes(dur: str) -> int:\n",
    "    if (dur.find('per ep') != -1):\n",
    "        return int(dur.split()[0])\n",
    "    else:\n",
    "        h = '0'\n",
    "        if (dur.find('hr') != -1):\n",
    "            h, _, dur = dur.partition('hr')\n",
    "        m, delim, _ = dur.partition('min')\n",
    "        if (len(delim) == 0):\n",
    "            m = '0'\n",
    "        return int(h) * 60 + int(m)\n",
    "\n",
    "ani_data.insert(5, 'total_duration',\\\n",
    "               (ani_data.duration.apply(convert_to_minutes) * ani_data.episodes))#.apply(lambda dur: str(dur) + ' min'))"
   ]
  },
  {
   "cell_type": "code",
   "execution_count": null,
   "id": "6b103b7f",
   "metadata": {
    "scrolled": true
   },
   "outputs": [],
   "source": [
    "ani_data.info()\n",
    "ani_data.head(5)"
   ]
  },
  {
   "cell_type": "markdown",
   "id": "368ae31a",
   "metadata": {},
   "source": [
    "Гипотеза 1: Аниме с большим количеством оценок обычно имеют score не ниже среднего (>= 6.0)\n",
    "\n",
    "Гипотеза 2: Длинные (по суммарной длительности) аниме имеют меньшее количество оценивающих (следовательно, зрителей)"
   ]
  },
  {
   "cell_type": "markdown",
   "id": "figured-arnold",
   "metadata": {},
   "source": [
    "# 2. Интерполяция кривой\n",
    "\n",
    "Сгенерируйте от 5 до 20 точек со случайными разными координатами (x, y), расположите их на координатной плоскости\n",
    "\n",
    "1. С помощью библиотеки scipy примените один из её [алгоритмов интерполяции](https://docs.scipy.org/doc/scipy/reference/interpolate.html) к сгенерированным данным\n",
    "1. Изучите математический подход метод выбранного алгоритма интерполяции в scipy. Найдите и продемонстрируйте при сдаче реализацию метода в исходном коде библиотеки scipy. Найти можно в [github репозитории проекта](https://github.com/scipy/scipy)\n",
    "1. Выберите среди методов интерполяции в scipy любой другой метод интерполяции (кроме линейной интерполяций). Реализуйте выбранный метод без использования сторонних библиотек. Разрешается использовать numpy для упрощения математичеcких вычислений\n",
    "1. Визуализируйте кривую интерполяции библиотечного и вашего алгоритмов с помощью  matplotlib. Сравните качество интерполяции своего и библиотечного методов, объясните разницу в качестве"
   ]
  },
  {
   "cell_type": "code",
   "execution_count": null,
   "id": "a6afe4e4",
   "metadata": {},
   "outputs": [],
   "source": [
    "from numpy.random import default_rng\n",
    "import scipy.interpolate as scp_intrp\n",
    "rng = default_rng(42)"
   ]
  },
  {
   "cell_type": "code",
   "execution_count": null,
   "id": "0d531ba1",
   "metadata": {},
   "outputs": [],
   "source": [
    "xs = np.sort(rng.choice(50, 20, replace = False) - 25)\n",
    "ys = rng.choice(50, 20, replace = False) - 25\n",
    "ys_sorted = np.sort(ys)\n",
    "print(xs)\n",
    "print(ys)\n",
    "print(ys_sorted)\n",
    "plt.scatter(xs, ys); plt.show()\n",
    "plt.scatter(xs, ys_sorted); plt.show()"
   ]
  },
  {
   "cell_type": "code",
   "execution_count": null,
   "id": "d84da2d5",
   "metadata": {},
   "outputs": [],
   "source": [
    "new_xs = np.arange(-25, 25)\n",
    "f = scp_intrp.Akima1DInterpolator(xs, ys)\n",
    "f2 = scp_intrp.Akima1DInterpolator(xs, ys_sorted)\n",
    "#f3 = scp_intrp.interp1d(xs, ys_sorted, kind = 'linear')\n",
    "plt.plot(xs, ys, 'o', new_xs, f(new_xs), '-'); plt.show()\n",
    "plt.plot(xs, ys_sorted, 'o', new_xs, f2(new_xs), '-'); plt.show()\n",
    "#plt.plot(new_xs, f3(new_xs)); plt.show()"
   ]
  },
  {
   "cell_type": "code",
   "execution_count": null,
   "id": "080e2bc8",
   "metadata": {},
   "outputs": [],
   "source": [
    "#https://github.com/scipy/scipy/blob/47bb6febaa10658c72962b9615d5d5aa2513fa3a/scipy/interpolate/_cubic.py#L364-L461\n",
    "img = plt.imread('data/Akima_code.png')\n",
    "plt.imshow(img)"
   ]
  },
  {
   "cell_type": "code",
   "execution_count": null,
   "id": "c1dd607f",
   "metadata": {},
   "outputs": [],
   "source": [
    "from numpy.polynomial.polynomial import Polynomial"
   ]
  },
  {
   "cell_type": "code",
   "execution_count": null,
   "id": "44382def",
   "metadata": {},
   "outputs": [],
   "source": [
    "def LaGrange(xs, ys):\n",
    "    if (xs.size != ys.size):\n",
    "        raise ValueError(\"xs and ys arrays must have the same length\")\n",
    "    if (np.any(xs[1:] == xs[:-1])):\n",
    "        raise ValueError(\"xs must not contain any duplicates\")\n",
    "    n = xs.size\n",
    "    p = Polynomial(np.zeros(n))\n",
    "    for i in range(n):\n",
    "        q = Polynomial([1])\n",
    "        for j in range(n):\n",
    "            if i != j:\n",
    "                q *= ([-xs[j], 1.]) / (xs[i] - xs[j])\n",
    "        p += ys[i] * q\n",
    "    return p\n",
    "\n",
    "plt.scatter(xs, ys); plt.show()\n",
    "my_poly = LaGrange(xs, ys)\n",
    "his_poly = Polynomial(scp_intrp.lagrange(xs, ys).coef[::-1])\n",
    "\n",
    "lagrange_xs = np.arange(xs.min(), xs.max())\n",
    "plt.plot(xs, ys_sorted, 'o', lagrange_xs, my_poly(lagrange_xs), '-')\n",
    "plt.title('My lagrange'); plt.show()\n",
    "plt.plot(xs, ys_sorted, 'o', lagrange_xs, his_poly(lagrange_xs), '-')\n",
    "plt.title('Theirs lagrange'); plt.show()"
   ]
  },
  {
   "cell_type": "markdown",
   "id": "alleged-tooth",
   "metadata": {},
   "source": [
    "# 3. Быстрая гистограмма\n",
    "\n",
    "Иногда хочется получить дискретное распределение из N колонок. Но пока что для этого у нас есть только plt.hist(), которая тратит много времени на отрисовку графика. Вам предлагается реализовать свою функцию построения дискретного распределения\n",
    "\n",
    "1. Алгоритм должен получать на вход список чисел и количество колонок гистограммы. Возвращать нужно значения столбцов (ось абсцисс гистограммы) и количество значений, принадлежащее столбцу (ось ординат гистограммы). Пример с использованием plt показан ниже, сигнатура функции также показана ниже\n",
    "1. Изучите функцию [plt.bar](https://matplotlib.org/stable/api/_as_gen/matplotlib.pyplot.bar.html). Это такая же гистограмма как plt.hist, но в отличие от hist требуется явно указывать высоту колонок и их название\n",
    "1. С помощью результатов своего алгоритма и plt.bar постройте гистограмму по массиву из 50+ случайных чисел. Графики plt.bar по вашему алгоритму и plt.hist() должны совпадать, что подтвердит корректность работы вашего алгоритма\n",
    "1. Сравните скорость построения распределения по массиву чисел с помощью своего алгоритма и с помощью plt.hist. В jupyter рекомендуется использовать built-in magic commands, а именно timeit. Но можно обойтись и ручными измерениями времени выполнения"
   ]
  },
  {
   "cell_type": "code",
   "execution_count": null,
   "id": "harmful-settle",
   "metadata": {},
   "outputs": [],
   "source": [
    "# Пример гистограммы с помощью plt.hist()\n",
    "# import matplotlib.pyplot as plt\n",
    "\n",
    "array = [1,1,2,3,4,1,2,3,4]\n",
    "\n",
    "value_counts, bins_names, visual_figure = plt.hist(array, \n",
    "                                                   bins=len(set(array)), \n",
    "                                                   rwidth=0.9)\n",
    "# Параметр rwidth и визуализацию в своей функции реализовывать не требуется\n",
    "print('Значения колонок:', value_counts)\n",
    "print('Названия колонок:', bins_names)"
   ]
  },
  {
   "cell_type": "code",
   "execution_count": null,
   "id": "443ac656",
   "metadata": {},
   "outputs": [],
   "source": [
    "from typing import List, Tuple, Union\n",
    "\n",
    "def fast_hist(array: List[Union[int, float]], \n",
    "              bins: int) -> Tuple[List[int], List[float]]:\n",
    "    \"\"\"\n",
    "    Builds bins' labels and bins' value counts for given array\n",
    "    :param array: array with numeric values\n",
    "    :param bins:  number of bins in result distribution\n",
    "    :return: Two lists: \n",
    "             first contains value counts of each bin,\n",
    "             second contains list of bins' labels\n",
    "    \"\"\"\n",
    "    if (bins <= 0):\n",
    "        raise ValueError(\"Number of bins must be positive\")\n",
    "    array = np.array(array)\n",
    "    min_val = array.min()\n",
    "    max_val = array.max()\n",
    "    if (max_val == min_val):\n",
    "        max_val += 1\n",
    "        min_val -= 1\n",
    "    step = (max_val - min_val) / bins     \n",
    "    bins_ids = ((array - min_val) / step).astype(int)\n",
    "    bins_ids[bins_ids == bins] -= 1\n",
    "    bins_cnts = np.zeros(bins)\n",
    "    uniques = np.unique(bins_ids, return_counts = True)\n",
    "    bins_cnts[uniques[0]] += uniques[1]\n",
    "    bins_names = np.linspace(min_val, max_val, num = bins + 1)\n",
    "    return (bins_cnts, bins_names)"
   ]
  },
  {
   "cell_type": "code",
   "execution_count": null,
   "id": "0dd434e9",
   "metadata": {},
   "outputs": [],
   "source": [
    "array = [11, 11, 11]\n",
    "heights, bars = fast_hist(array, 4)\n",
    "print(heights)\n",
    "print(bars)\n",
    "plt.bar(bars[:-1], heights, align = 'edge'); plt.show()\n",
    "plt.hist(array, 4)"
   ]
  },
  {
   "cell_type": "code",
   "execution_count": null,
   "id": "056de198",
   "metadata": {},
   "outputs": [],
   "source": [
    "test_array = rng.integers(50, size = 100)\n",
    "bins = len(set(test_array))\n",
    "\n",
    "def check_fast_hist():\n",
    "    heights, bars = fast_hist(test_array, bins)\n",
    "    #plt.bar(bars[:-1], heights, align = 'edge')\n",
    "\n",
    "def check_plt_hist():\n",
    "    plt.hist(test_array, bins, width = 0.8)"
   ]
  },
  {
   "cell_type": "code",
   "execution_count": null,
   "id": "parliamentary-worker",
   "metadata": {},
   "outputs": [],
   "source": [
    "%timeit -r 4 check_fast_hist()"
   ]
  },
  {
   "cell_type": "code",
   "execution_count": null,
   "id": "f168ed3d",
   "metadata": {},
   "outputs": [],
   "source": [
    "%timeit -r 4 check_plt_hist()"
   ]
  },
  {
   "cell_type": "code",
   "execution_count": null,
   "id": "3418d6ed",
   "metadata": {},
   "outputs": [],
   "source": []
  }
 ],
 "metadata": {
  "kernelspec": {
   "display_name": "Python 3",
   "language": "python",
   "name": "python3"
  },
  "language_info": {
   "codemirror_mode": {
    "name": "ipython",
    "version": 3
   },
   "file_extension": ".py",
   "mimetype": "text/x-python",
   "name": "python",
   "nbconvert_exporter": "python",
   "pygments_lexer": "ipython3",
   "version": "3.8.8"
  }
 },
 "nbformat": 4,
 "nbformat_minor": 5
}
